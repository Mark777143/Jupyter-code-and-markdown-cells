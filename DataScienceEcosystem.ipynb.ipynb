{
 "cells": [
  {
   "cell_type": "markdown",
   "id": "251636fd-f229-452b-8476-c40b2c48cdbf",
   "metadata": {},
   "source": [
    "# Data Science Tools and Ecosystem"
   ]
  },
  {
   "cell_type": "markdown",
   "id": "b9e0ebef-1c97-4abf-a90c-c9eb30638029",
   "metadata": {},
   "source": [
    "*In this notebook, Data Science Tools and Ecosystem are summarized.*"
   ]
  },
  {
   "cell_type": "markdown",
   "id": "f16c10f1-8f51-4d2d-9533-33947c25dced",
   "metadata": {},
   "source": [
    "# *Objectives:*"
   ]
  },
  {
   "cell_type": "markdown",
   "id": "e7612860-e8b7-4035-85a5-b9dccdb687e3",
   "metadata": {},
   "source": [
    "* List popular Languages for data science\n",
    "* List popular Data Science Libraries in data sciences\n",
    "* List popular open source data science tools\n",
    "* Show simple examples of arithithmetic expressions and their solutions.\n"
   ]
  },
  {
   "cell_type": "markdown",
   "id": "04238894-6603-4cf9-bb92-5f9b95b32b61",
   "metadata": {},
   "source": [
    "*Some of the popular languages that Data Scientists use are:*"
   ]
  },
  {
   "cell_type": "markdown",
   "id": "1273f3f3-104f-41d2-b020-b51b231bebbe",
   "metadata": {},
   "source": [
    "1. Python\n",
    "2. R\n",
    "3. SQL\n",
    "4. Julia \n",
    "5. Javascript "
   ]
  },
  {
   "cell_type": "markdown",
   "id": "896d154a-71d0-4d8a-99d6-2326d08bd090",
   "metadata": {},
   "source": [
    "*Some of the commonly used libraries used by Data Scientists include:*"
   ]
  },
  {
   "cell_type": "markdown",
   "id": "6bf25697-6027-4e40-8891-de3d7de00cee",
   "metadata": {},
   "source": [
    "1.  Matplotlib\n",
    "2.  Scikit-learn\n",
    "3.  Numpy\n",
    "4.  Pandas\n",
    "5.  Tensorflow"
   ]
  },
  {
   "cell_type": "markdown",
   "id": "cd879459-365a-43c4-8498-76d3548618e9",
   "metadata": {},
   "source": [
    "# Data Science Tools (Open Source)\n",
    "-----------------\n",
    "* JupyterNotebook   \n",
    "* Rstudio     \n",
    "* Git                \n",
    "* Hadoop            \n",
    "* ApacheSpark       "
   ]
  },
  {
   "cell_type": "markdown",
   "id": "d7efe193-444e-4b84-8905-145574499b00",
   "metadata": {},
   "source": [
    "### Below are a few examples of evaluating arithmetic expressions in Python:"
   ]
  },
  {
   "cell_type": "code",
   "execution_count": 8,
   "id": "b4b790c0-9ec4-4186-8d4b-701eb6e7f648",
   "metadata": {
    "tags": []
   },
   "outputs": [
    {
     "name": "stdout",
     "output_type": "stream",
     "text": [
      "17\n"
     ]
    }
   ],
   "source": [
    "# This is a simple arithmetic expression to multiply 3*4 then to add the integer 5\n",
    "\n",
    "result = (3*4)+5\n",
    "print(result)"
   ]
  },
  {
   "cell_type": "code",
   "execution_count": 10,
   "id": "cae1a806-59b9-44ac-b00e-eb6bfa8dcb57",
   "metadata": {
    "tags": []
   },
   "outputs": [
    {
     "name": "stdout",
     "output_type": "stream",
     "text": [
      "3.3333333333333335\n"
     ]
    }
   ],
   "source": [
    "# This is a simple code in which we convert 200 minutes into hours.\n",
    "\n",
    "result = 200/60 # 200 is the conversion, 60 is the constant of 60 minutes in an hour\n",
    "print(result) # so there are approx 3.3 hours in 200 minutes"
   ]
  },
  {
   "cell_type": "code",
   "execution_count": 3,
   "id": "dbc26eac-ab33-4b8b-9e52-389e5b7c68b5",
   "metadata": {},
   "outputs": [
    {
     "name": "stdout",
     "output_type": "stream",
     "text": [
      "116\n"
     ]
    }
   ],
   "source": [
    "# This is how a simple subtraction problem can be coded.\n",
    "result = 350 - 234\n",
    "print(result)"
   ]
  },
  {
   "cell_type": "markdown",
   "id": "d8421539-133e-4be2-b2bd-3d5a6583b217",
   "metadata": {},
   "source": [
    "## Author,\n",
    "Mark Huber \n",
    "\n",
    "[Contact me by clicking HERE:](mark777143@yahoo.com)"
   ]
  },
  {
   "cell_type": "code",
   "execution_count": null,
   "id": "42d318e0-744b-4ce8-ad88-17965d7b5692",
   "metadata": {},
   "outputs": [],
   "source": []
  }
 ],
 "metadata": {
  "kernelspec": {
   "display_name": "Python",
   "language": "python",
   "name": "conda-env-python-py"
  },
  "language_info": {
   "codemirror_mode": {
    "name": "ipython",
    "version": 3
   },
   "file_extension": ".py",
   "mimetype": "text/x-python",
   "name": "python",
   "nbconvert_exporter": "python",
   "pygments_lexer": "ipython3",
   "version": "3.7.12"
  }
 },
 "nbformat": 4,
 "nbformat_minor": 5
}
